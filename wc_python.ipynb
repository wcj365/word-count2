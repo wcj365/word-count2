{
  "nbformat": 4,
  "nbformat_minor": 0,
  "metadata": {
    "colab": {
      "name": "wc_python.ipynb",
      "provenance": [],
      "authorship_tag": "ABX9TyOA0I6wAEk2M7Zh/CAoDV0+",
      "include_colab_link": true
    },
    "kernelspec": {
      "name": "python3",
      "display_name": "Python 3"
    }
  },
  "cells": [
    {
      "cell_type": "markdown",
      "metadata": {
        "id": "view-in-github",
        "colab_type": "text"
      },
      "source": [
        "<a href=\"https://colab.research.google.com/github/wcj365/word-count2/blob/master/wc_python.ipynb\" target=\"_parent\"><img src=\"https://colab.research.google.com/assets/colab-badge.svg\" alt=\"Open In Colab\"/></a>"
      ]
    },
    {
      "cell_type": "markdown",
      "metadata": {
        "id": "OL0Sxukt5jus",
        "colab_type": "text"
      },
      "source": [
        "# Simple Word Count Using Python\n",
        "This is a simple program to perform word count using plain Python."
      ]
    },
    {
      "cell_type": "code",
      "metadata": {
        "id": "5tKYy-qo4reK",
        "colab_type": "code",
        "outputId": "94ded05c-8b7d-4aeb-afbc-9e2e1f515c3f",
        "colab": {
          "base_uri": "https://localhost:8080/",
          "height": 34
        }
      },
      "source": [
        "hamlet_lines = [\"To be or\", \"not to be\"]\n",
        "\n",
        "hamlet_words = []     \n",
        "\n",
        "for line in hamlet_lines:\n",
        "    words = line.split(\" \")\n",
        "    hamlet_words.append(words)\n",
        "\n",
        "hamlet_words\n"
      ],
      "execution_count": 2,
      "outputs": [
        {
          "output_type": "execute_result",
          "data": {
            "text/plain": [
              "[['To', 'be', 'or'], ['not', 'to', 'be']]"
            ]
          },
          "metadata": {
            "tags": []
          },
          "execution_count": 2
        }
      ]
    },
    {
      "cell_type": "code",
      "metadata": {
        "id": "MtINFSVi5heJ",
        "colab_type": "code",
        "outputId": "375778a9-0150-4a09-8f3a-b4f1591a6880",
        "colab": {
          "base_uri": "https://localhost:8080/",
          "height": 34
        }
      },
      "source": [
        "hamlet_words2 = []\n",
        "\n",
        "for x in hamlet_words:\n",
        "    for word in x:\n",
        "        hamlet_words2.append(word.lower())\n",
        "\n",
        "hamlet_words2"
      ],
      "execution_count": 3,
      "outputs": [
        {
          "output_type": "execute_result",
          "data": {
            "text/plain": [
              "['to', 'be', 'or', 'not', 'to', 'be']"
            ]
          },
          "metadata": {
            "tags": []
          },
          "execution_count": 3
        }
      ]
    },
    {
      "cell_type": "code",
      "metadata": {
        "id": "hMUn10Vm8_tu",
        "colab_type": "code",
        "outputId": "d0abd425-6bc2-43e9-95f1-f662a2febce9",
        "colab": {
          "base_uri": "https://localhost:8080/",
          "height": 34
        }
      },
      "source": [
        "word_count_dict = {}\n",
        "\n",
        "for word in hamlet_words2:\n",
        "    if word in word_count_dict.keys():\n",
        "       word_count_dict[word] = word_count_dict[word] + 1      # increase value by 1\n",
        "    else:\n",
        "       word_count_dict[word] = 1                              # add a new key value pair\n",
        "\n",
        "word_count_dict"
      ],
      "execution_count": 4,
      "outputs": [
        {
          "output_type": "execute_result",
          "data": {
            "text/plain": [
              "{'be': 2, 'not': 1, 'or': 1, 'to': 2}"
            ]
          },
          "metadata": {
            "tags": []
          },
          "execution_count": 4
        }
      ]
    }
  ]
}