{
  "nbformat": 4,
  "nbformat_minor": 0,
  "metadata": {
    "colab": {
      "name": "wc_python2.ipynb",
      "provenance": [],
      "authorship_tag": "ABX9TyNEJb4yc66K49vTGCHGho9B",
      "include_colab_link": true
    },
    "kernelspec": {
      "name": "python3",
      "display_name": "Python 3"
    }
  },
  "cells": [
    {
      "cell_type": "markdown",
      "metadata": {
        "id": "view-in-github",
        "colab_type": "text"
      },
      "source": [
        "<a href=\"https://colab.research.google.com/github/wcj365/word-count2/blob/master/wc_python2.ipynb\" target=\"_parent\"><img src=\"https://colab.research.google.com/assets/colab-badge.svg\" alt=\"Open In Colab\"/></a>"
      ]
    },
    {
      "cell_type": "markdown",
      "metadata": {
        "id": "Rs_00BxRI0-s",
        "colab_type": "text"
      },
      "source": [
        "# Simple Word Count using Python\n",
        "We will use an essay as input."
      ]
    },
    {
      "cell_type": "code",
      "metadata": {
        "id": "NDgQuB8zIvqN",
        "colab_type": "code",
        "colab": {}
      },
      "source": [
        "import os\n",
        "import operator\n",
        "from wordcloud import WordCloud, STOPWORDS"
      ],
      "execution_count": 0,
      "outputs": []
    },
    {
      "cell_type": "code",
      "metadata": {
        "id": "ArANIYfGK8YU",
        "colab_type": "code",
        "colab": {
          "base_uri": "https://localhost:8080/",
          "height": 34
        },
        "outputId": "75fb60bb-5a54-4c5a-9242-1e96d7d67466"
      },
      "source": [
        "os.listdir()"
      ],
      "execution_count": 48,
      "outputs": [
        {
          "output_type": "execute_result",
          "data": {
            "text/plain": [
              "['.config', 'against-interpretation.txt', 'sample_data']"
            ]
          },
          "metadata": {
            "tags": []
          },
          "execution_count": 48
        }
      ]
    },
    {
      "cell_type": "code",
      "metadata": {
        "id": "vcyKf4eJKlHV",
        "colab_type": "code",
        "colab": {
          "base_uri": "https://localhost:8080/",
          "height": 187
        },
        "outputId": "b4cc18b4-2b7f-49a7-ee88-e93eb73180b5"
      },
      "source": [
        "TEXT_FILE = \"against-interpretation.txt\"\n",
        "\n",
        "with open(TEXT_FILE, encoding='utf-8', errors='ignore') as file:\n",
        "    susan_lines = file.readlines()\n",
        "\n",
        "susan_lines[:10]"
      ],
      "execution_count": 49,
      "outputs": [
        {
          "output_type": "execute_result",
          "data": {
            "text/plain": [
              "['Content is the glimpse of something, an\\n',\n",
              " 'encounter like a flash. Its very tinyvery\\n',\n",
              " 'tiny, content.\\n',\n",
              " 'WILLIAM DE KOONING, in an\\n',\n",
              " 'interview\\n',\n",
              " 'It is only shallow people who do not judge\\n',\n",
              " 'by appearances. The mystery of the world is\\n',\n",
              " 'the visible, not the invisible.\\n',\n",
              " 'OSCAR WILDE, in a letter\\n',\n",
              " 'Against Interpretation\\n']"
            ]
          },
          "metadata": {
            "tags": []
          },
          "execution_count": 49
        }
      ]
    },
    {
      "cell_type": "code",
      "metadata": {
        "id": "tqj74TDDMlp5",
        "colab_type": "code",
        "colab": {
          "base_uri": "https://localhost:8080/",
          "height": 34
        },
        "outputId": "c0787363-1d94-4311-d8ef-a833cc063e07"
      },
      "source": [
        "len(susan_lines)"
      ],
      "execution_count": 50,
      "outputs": [
        {
          "output_type": "execute_result",
          "data": {
            "text/plain": [
              "372"
            ]
          },
          "metadata": {
            "tags": []
          },
          "execution_count": 50
        }
      ]
    },
    {
      "cell_type": "code",
      "metadata": {
        "id": "sPswof9BNmK6",
        "colab_type": "code",
        "colab": {
          "base_uri": "https://localhost:8080/",
          "height": 102
        },
        "outputId": "4374e7fe-3e92-43bd-f563-bd77502df187"
      },
      "source": [
        "susan_words = []     \n",
        "\n",
        "for line in susan_lines:\n",
        "    words = line.split(\" \")\n",
        "    susan_words.append(words)\n",
        "\n",
        "susan_words[:5]"
      ],
      "execution_count": 51,
      "outputs": [
        {
          "output_type": "execute_result",
          "data": {
            "text/plain": [
              "[['Content', 'is', 'the', 'glimpse', 'of', 'something,', 'an\\n'],\n",
              " ['encounter', 'like', 'a', 'flash.', 'Its', 'very', 'tinyvery\\n'],\n",
              " ['tiny,', 'content.\\n'],\n",
              " ['WILLIAM', 'DE', 'KOONING,', 'in', 'an\\n'],\n",
              " ['interview\\n']]"
            ]
          },
          "metadata": {
            "tags": []
          },
          "execution_count": 51
        }
      ]
    },
    {
      "cell_type": "code",
      "metadata": {
        "id": "FMeW-JFEPsxN",
        "colab_type": "code",
        "colab": {
          "base_uri": "https://localhost:8080/",
          "height": 34
        },
        "outputId": "fb5b94fe-13a7-4d43-8e9f-252b6cf4b89d"
      },
      "source": [
        "len(susan_words)"
      ],
      "execution_count": 52,
      "outputs": [
        {
          "output_type": "execute_result",
          "data": {
            "text/plain": [
              "372"
            ]
          },
          "metadata": {
            "tags": []
          },
          "execution_count": 52
        }
      ]
    },
    {
      "cell_type": "code",
      "metadata": {
        "id": "GXNU8d0gXF69",
        "colab_type": "code",
        "colab": {
          "base_uri": "https://localhost:8080/",
          "height": 34
        },
        "outputId": "deab1114-05f8-4c70-aafa-f7651808d2f7"
      },
      "source": [
        "\"the\" in STOPWORDS"
      ],
      "execution_count": 53,
      "outputs": [
        {
          "output_type": "execute_result",
          "data": {
            "text/plain": [
              "True"
            ]
          },
          "metadata": {
            "tags": []
          },
          "execution_count": 53
        }
      ]
    },
    {
      "cell_type": "code",
      "metadata": {
        "id": "0naWXzA9Vu6I",
        "colab_type": "code",
        "colab": {
          "base_uri": "https://localhost:8080/",
          "height": 187
        },
        "outputId": "0b2e48b9-43fb-4dbc-aec4-1097859cea88"
      },
      "source": [
        "list(STOPWORDS)[-10:]"
      ],
      "execution_count": 54,
      "outputs": [
        {
          "output_type": "execute_result",
          "data": {
            "text/plain": [
              "[\"when's\",\n",
              " 'who',\n",
              " 'more',\n",
              " \"haven't\",\n",
              " \"mustn't\",\n",
              " \"couldn't\",\n",
              " 'myself',\n",
              " 'on',\n",
              " \"she'll\",\n",
              " \"hasn't\"]"
            ]
          },
          "metadata": {
            "tags": []
          },
          "execution_count": 54
        }
      ]
    },
    {
      "cell_type": "code",
      "metadata": {
        "id": "v-XzUBTNPIDS",
        "colab_type": "code",
        "colab": {
          "base_uri": "https://localhost:8080/",
          "height": 34
        },
        "outputId": "1a0f0e8e-c15d-4f75-ad0d-2d493203024a"
      },
      "source": [
        "susan_words2 = []\n",
        "\n",
        "for x in susan_words:\n",
        "    for word in x:\n",
        "        if word in STOPWORDS:\n",
        "            continue\n",
        "        else:\n",
        "            susan_words2.append(word.lower())\n",
        "\n",
        "len(susan_words2)"
      ],
      "execution_count": 55,
      "outputs": [
        {
          "output_type": "execute_result",
          "data": {
            "text/plain": [
              "2465"
            ]
          },
          "metadata": {
            "tags": []
          },
          "execution_count": 55
        }
      ]
    },
    {
      "cell_type": "code",
      "metadata": {
        "id": "8BpqpxqMQPRa",
        "colab_type": "code",
        "colab": {
          "base_uri": "https://localhost:8080/",
          "height": 272
        },
        "outputId": "52257bf1-c216-46f6-ffdc-b7a523131025"
      },
      "source": [
        "susan_words2[:15]"
      ],
      "execution_count": 56,
      "outputs": [
        {
          "output_type": "execute_result",
          "data": {
            "text/plain": [
              "['content',\n",
              " 'glimpse',\n",
              " 'something,',\n",
              " 'an\\n',\n",
              " 'encounter',\n",
              " 'flash.',\n",
              " 'its',\n",
              " 'tinyvery\\n',\n",
              " 'tiny,',\n",
              " 'content.\\n',\n",
              " 'william',\n",
              " 'de',\n",
              " 'kooning,',\n",
              " 'an\\n',\n",
              " 'interview\\n']"
            ]
          },
          "metadata": {
            "tags": []
          },
          "execution_count": 56
        }
      ]
    },
    {
      "cell_type": "code",
      "metadata": {
        "id": "KzB-qXVIQp27",
        "colab_type": "code",
        "colab": {}
      },
      "source": [
        "word_count_dict = {}\n",
        "\n",
        "for word in susan_words2:\n",
        "    if word in word_count_dict.keys():\n",
        "       word_count_dict[word] = word_count_dict[word] + 1      # increase value by 1\n",
        "    else:\n",
        "       word_count_dict[word] = 1                              # add a new key value pair\n",
        "\n"
      ],
      "execution_count": 0,
      "outputs": []
    },
    {
      "cell_type": "code",
      "metadata": {
        "id": "8p4j0t72RQXY",
        "colab_type": "code",
        "colab": {
          "base_uri": "https://localhost:8080/",
          "height": 187
        },
        "outputId": "1cd98fa4-8551-43aa-f8b2-fafcdeb69527"
      },
      "source": [
        "list(word_count_dict.items())[:10]"
      ],
      "execution_count": 58,
      "outputs": [
        {
          "output_type": "execute_result",
          "data": {
            "text/plain": [
              "[('content', 20),\n",
              " ('glimpse', 1),\n",
              " ('something,', 3),\n",
              " ('an\\n', 7),\n",
              " ('encounter', 1),\n",
              " ('flash.', 1),\n",
              " ('its', 1),\n",
              " ('tinyvery\\n', 1),\n",
              " ('tiny,', 1),\n",
              " ('content.\\n', 1)]"
            ]
          },
          "metadata": {
            "tags": []
          },
          "execution_count": 58
        }
      ]
    },
    {
      "cell_type": "code",
      "metadata": {
        "id": "vndUg8ZwS_9L",
        "colab_type": "code",
        "colab": {
          "base_uri": "https://localhost:8080/",
          "height": 187
        },
        "outputId": "257acbf2-d720-4f0c-d49f-f3cdbb09df82"
      },
      "source": [
        "\n",
        "sorted_dict = sorted(word_count_dict.items(), key=operator.itemgetter(1))\n",
        "sorted_dict[-10:]"
      ],
      "execution_count": 59,
      "outputs": [
        {
          "output_type": "execute_result",
          "data": {
            "text/plain": [
              "[('a\\n', 14),\n",
              " ('works', 14),\n",
              " ('the\\n', 15),\n",
              " ('it', 16),\n",
              " ('of\\n', 16),\n",
              " ('content', 20),\n",
              " ('work', 21),\n",
              " ('interpretation', 28),\n",
              " ('the', 33),\n",
              " ('art', 51)]"
            ]
          },
          "metadata": {
            "tags": []
          },
          "execution_count": 59
        }
      ]
    }
  ]
}